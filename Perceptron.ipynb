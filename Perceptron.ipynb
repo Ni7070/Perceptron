{
  "nbformat": 4,
  "nbformat_minor": 0,
  "metadata": {
    "colab": {
      "name": "Perceptron.ipynb",
      "provenance": [],
      "collapsed_sections": [],
      "include_colab_link": true
    },
    "kernelspec": {
      "name": "python3",
      "display_name": "Python 3"
    }
  },
  "cells": [
    {
      "cell_type": "markdown",
      "metadata": {
        "id": "view-in-github",
        "colab_type": "text"
      },
      "source": [
        "<a href=\"https://colab.research.google.com/github/Ni7070/Perceptron/blob/master/Perceptron.ipynb\" target=\"_parent\"><img src=\"https://colab.research.google.com/assets/colab-badge.svg\" alt=\"Open In Colab\"/></a>"
      ]
    },
    {
      "cell_type": "code",
      "metadata": {
        "colab": {
          "resources": {
            "http://localhost:8080/nbextensions/google.colab/files.js": {
              "data": "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",
              "ok": true,
              "headers": [
                [
                  "content-type",
                  "application/javascript"
                ]
              ],
              "status": 200,
              "status_text": ""
            }
          },
          "base_uri": "https://localhost:8080/",
          "height": 73
        },
        "id": "_v2vMyYauZ3p",
        "outputId": "7a5aee4d-edaf-4ee7-a663-acc06fb279d5"
      },
      "source": [
        "from google.colab import files\n",
        "uploaded = files.upload()"
      ],
      "execution_count": null,
      "outputs": [
        {
          "output_type": "display_data",
          "data": {
            "text/html": [
              "\n",
              "     <input type=\"file\" id=\"files-27c68e8a-c1cf-456b-b102-6806ab99610b\" name=\"files[]\" multiple disabled\n",
              "        style=\"border:none\" />\n",
              "     <output id=\"result-27c68e8a-c1cf-456b-b102-6806ab99610b\">\n",
              "      Upload widget is only available when the cell has been executed in the\n",
              "      current browser session. Please rerun this cell to enable.\n",
              "      </output>\n",
              "      <script src=\"/nbextensions/google.colab/files.js\"></script> "
            ],
            "text/plain": [
              "<IPython.core.display.HTML object>"
            ]
          },
          "metadata": {
            "tags": []
          }
        },
        {
          "output_type": "stream",
          "text": [
            "Saving train-perceptron.txt to train-perceptron.txt\n"
          ],
          "name": "stdout"
        }
      ]
    },
    {
      "cell_type": "code",
      "metadata": {
        "id": "18Sp4tcVv4hq"
      },
      "source": [
        "import numpy as np\n",
        "import pandas as pd\n",
        "import matplotlib.pyplot as plt"
      ],
      "execution_count": null,
      "outputs": []
    },
    {
      "cell_type": "code",
      "metadata": {
        "id": "96aklysmuf0o"
      },
      "source": [
        "#Reading Train and Test data files\n",
        "import numpy as np\n",
        "df_train = np.loadtxt(\"train-perceptron.txt\",dtype= float, delimiter = \" \")"
      ],
      "execution_count": null,
      "outputs": []
    },
    {
      "cell_type": "code",
      "metadata": {
        "colab": {
          "base_uri": "https://localhost:8080/"
        },
        "id": "OSQkR4iq3euo",
        "outputId": "6157b2c5-05aa-44d2-c11a-37c96d276409"
      },
      "source": [
        "#Distributing train data into trainClass1 and trainClass2 based on the data of the last column\n",
        "\n",
        "df1 = df_train[np.where(df_train[:,-1]==1)]\n",
        "w1 =  df1[:, [0,1]]\n",
        "\n",
        "df2 = df_train[np.where(df_train[:,-1]==2)]\n",
        "\n",
        "w2 =  df2[:, [0,1]]\n",
        "\n",
        "df = np.concatenate((w1, w2), axis=0)\n",
        "\n",
        "print('çlass1=  \\n',w1)\n",
        "print('çlass2=  \\n',w2)\n",
        "print('çlass2=  \\n',df)"
      ],
      "execution_count": null,
      "outputs": [
        {
          "output_type": "stream",
          "text": [
            "çlass1=  \n",
            " [[ 1.  1.]\n",
            " [ 1. -1.]\n",
            " [ 4.  5.]]\n",
            "çlass2=  \n",
            " [[2.  2.5]\n",
            " [0.  2. ]\n",
            " [2.  3. ]]\n",
            "çlass2=  \n",
            " [[ 1.   1. ]\n",
            " [ 1.  -1. ]\n",
            " [ 4.   5. ]\n",
            " [ 2.   2.5]\n",
            " [ 0.   2. ]\n",
            " [ 2.   3. ]]\n"
          ],
          "name": "stdout"
        }
      ]
    },
    {
      "cell_type": "code",
      "metadata": {
        "colab": {
          "base_uri": "https://localhost:8080/",
          "height": 513
        },
        "id": "GV9hP8RgDHTH",
        "outputId": "9cb9c9c9-4c8c-4996-be4a-5ce584b679f1"
      },
      "source": [
        "#Plotting train data\n",
        "import matplotlib.pyplot as plt\n",
        "fig, ax = plt.subplots(1, figsize = (10, 8))\n",
        " \n",
        " \n",
        "plt.scatter(w1[:,0], w1[:,1], c = 'red', marker='*', s= 100, label='Train Class-1', edgecolors='black')\n",
        "plt.scatter(w2[:,0], w2[:,1], c = 'blue', label='Train Class-2', edgecolors='black', alpha=0.75)\n",
        " \n",
        "plt.title(\"Plotting training data\")\n",
        "ax.legend(frameon=True, shadow=True, borderpad=1)\n",
        "plt.xlabel(\"x values\")\n",
        "plt.ylabel(\"y values\")\n",
        "plt.legend(loc=\"best\",fontsize=\"small\") \n",
        " \n",
        "plt.show()"
      ],
      "execution_count": null,
      "outputs": [
        {
          "output_type": "display_data",
          "data": {
            "image/png": "[encoded data removed]",
            "text/plain": [
              "<Figure size 720x576 with 1 Axes>"
            ]
          },
          "metadata": {
            "tags": [],
            "needs_background": "light"
          }
        }
      ]
    },
    {
      "cell_type": "code",
      "metadata": {
        "colab": {
          "base_uri": "https://localhost:8080/"
        },
        "id": "XQg9D4g_2TwB",
        "outputId": "e79c3cd5-b994-4384-887c-c49ebc1bf1aa"
      },
      "source": [
        "y= np.empty(shape=[0, 6])\n",
        "\n",
        "#multyplyting trainclass1 with given formula to acheive higher dimention\n",
        "for i in range(0,df_train.shape[0]):\n",
        "    m = np.array([[df[i, 0] * df[i, 0], df[i, 1] * df[i, 1], df[i, 0] * df[i, 1], df[i, 0], df[i, 1], 1]]);\n",
        "    y = np.append(y, m, axis=0)\n",
        "\n",
        "print(y)\n",
        "\n",
        "#Normalization of the second class\n",
        "y=np.concatenate((y[0:np.shape(w1)[0],:],-1*y[np.shape(w1)[0]:,:]),axis=0)\n",
        "print(y)"
      ],
      "execution_count": null,
      "outputs": [
        {
          "output_type": "stream",
          "text": [
            "[[ 1.    1.    1.    1.    1.    1.  ]\n",
            " [ 1.    1.   -1.    1.   -1.    1.  ]\n",
            " [16.   25.   20.    4.    5.    1.  ]\n",
            " [ 4.    6.25  5.    2.    2.5   1.  ]\n",
            " [ 0.    4.    0.    0.    2.    1.  ]\n",
            " [ 4.    9.    6.    2.    3.    1.  ]]\n",
            "[[ 1.    1.    1.    1.    1.    1.  ]\n",
            " [ 1.    1.   -1.    1.   -1.    1.  ]\n",
            " [16.   25.   20.    4.    5.    1.  ]\n",
            " [-4.   -6.25 -5.   -2.   -2.5  -1.  ]\n",
            " [-0.   -4.   -0.   -0.   -2.   -1.  ]\n",
            " [-4.   -9.   -6.   -2.   -3.   -1.  ]]\n"
          ],
          "name": "stdout"
        }
      ]
    },
    {
      "cell_type": "code",
      "metadata": {
        "colab": {
          "base_uri": "https://localhost:8080/"
        },
        "id": "d1tTnMVO5CDl",
        "outputId": "d9ecd696-987a-4ae2-913c-2dd455f3308a"
      },
      "source": [
        "weight_0 = np.array([[0,0,0,0,0,0]])\n",
        " \n",
        "weight_1 = np.array([[1,1,1,1,1,1]])\n",
        "weight_rand = np.round([10*np.array(np.random.rand(6))])\n",
        "print(weight_0, weight_1, weight_rand)\n",
        "np.random.seed(0) ;\n",
        "# weight3 = np.random.rand(6)\n",
        "# print(weight3)\n",
        "alpha=np.array([0.1,0.2,0.3,0.4,0.5,0.6,0.7,0.8,0.9,1.0])\n"
      ],
      "execution_count": null,
      "outputs": [
        {
          "output_type": "stream",
          "text": [
            "[[0 0 0 0 0 0]] [[1 1 1 1 1 1]] [[5. 7. 6. 5. 4. 6.]]\n"
          ],
          "name": "stdout"
        }
      ]
    },
    {
      "cell_type": "code",
      "metadata": {
        "id": "12iqZGTOPQ-s"
      },
      "source": [
        "#Batch update with initial weight 0\n",
        "c = 0\n",
        "batch_0_iter = []\n",
        "for i in alpha:\n",
        "  a = np.array(weight_0)\n",
        "  c = 0\n",
        "  while True:\n",
        "    weight_update = []\n",
        "    tmp = []\n",
        "    b = 0\n",
        "    for j in y:\n",
        "        s = np.sum(j * a,axis = 1)\n",
        "        if s[0]<= 0:\n",
        "          tmp.append(j)\n",
        "          b = 1\n",
        "    c = c + 1\n",
        "    if b == 0:\n",
        "      break            \n",
        "    e = np.array(tmp)\n",
        "    weight_update.append(np.sum(e, axis = 0))\n",
        "    weight_update = np.array(weight_update)\n",
        "    weight_update = a + (weight_update * i)\n",
        "    a = weight_update\n",
        "  batch_0_iter.append(c)  \n"
      ],
      "execution_count": null,
      "outputs": []
    },
    {
      "cell_type": "code",
      "metadata": {
        "id": "wqm53DO3Q7CJ"
      },
      "source": [
        "#Single update with initial weight 0\n",
        "c = 0\n",
        "single_0_iter = []\n",
        "for i in alpha:\n",
        "  a = np.array(weight_0)\n",
        "  c = 0\n",
        "  while True:\n",
        "    b = 0\n",
        "    for j in y:\n",
        "        s = np.sum(j * a,axis = 1)\n",
        "        if s[0]<= 0:\n",
        "          a = a + (j * i)\n",
        "          b = 1\n",
        "    c = c + 1\n",
        "    if b == 0:\n",
        "      break            \n",
        "    \n",
        "  single_0_iter.append(c) "
      ],
      "execution_count": null,
      "outputs": []
    },
    {
      "cell_type": "code",
      "metadata": {
        "colab": {
          "base_uri": "https://localhost:8080/"
        },
        "id": "9Q_4mVHZmZP1",
        "outputId": "5fce93fa-ec97-4b97-d79e-00f1c4e047d6"
      },
      "source": [
        "print(\"Case 1:Initial Weight Vector All Zeros\")\n",
        "dataset1 = pd.DataFrame({'Alpha': alpha, 'Single Update': single_0_iter,'Batch Update':batch_0_iter})\n",
        "print(dataset1.to_string(index=False))"
      ],
      "execution_count": null,
      "outputs": [
        {
          "output_type": "stream",
          "text": [
            "Case 1:Initial Weight Vector All Zeros\n",
            " Alpha  Single Update  Batch Update\n",
            "   0.1             94           105\n",
            "   0.2             94           105\n",
            "   0.3             94           105\n",
            "   0.4             94           105\n",
            "   0.5             94            92\n",
            "   0.6             94           105\n",
            "   0.7             94            92\n",
            "   0.8             94           105\n",
            "   0.9             94           105\n",
            "   1.0             94            92\n"
          ],
          "name": "stdout"
        }
      ]
    },
    {
      "cell_type": "code",
      "metadata": {
        "colab": {
          "base_uri": "https://localhost:8080/",
          "height": 548
        },
        "id": "8wo__t55g1nT",
        "outputId": "066430cb-3a31-4aaa-81fa-971da8f278ae"
      },
      "source": [
        "plt.figure(1)\n",
        "fig, ax = plt.subplots(1, figsize = (10, 8))\n",
        "\n",
        "plt.bar(alpha, batch_0_iter, 0.04, label='Batch Update')\n",
        "plt.bar(alpha+0.04, single_0_iter, 0.04, label='Single Update')\n",
        "\n",
        "plt.title('Perception Comparison for all initial weight Zeros')\n",
        "plt.xlabel(\"Learning Rate\")\n",
        "plt.ylabel(\"Iteration Number\")\n",
        "plt.legend(loc=\"best\",fontsize=\"small\")"
      ],
      "execution_count": null,
      "outputs": [
        {
          "output_type": "execute_result",
          "data": {
            "text/plain": [
              "<matplotlib.legend.Legend at 0x7f16f4b164e0>"
            ]
          },
          "metadata": {
            "tags": []
          },
          "execution_count": 143
        },
        {
          "output_type": "display_data",
          "data": {
            "text/plain": [
              "<Figure size 432x288 with 0 Axes>"
            ]
          },
          "metadata": {
            "tags": []
          }
        },
        {
          "output_type": "display_data",
          "data": {
            "image/png": "[encoded data removed]",
            "text/plain": [
              "<Figure size 720x576 with 1 Axes>"
            ]
          },
          "metadata": {
            "tags": [],
            "needs_background": "light"
          }
        }
      ]
    },
    {
      "cell_type": "code",
      "metadata": {
        "id": "yxQ6QWyGm3t9"
      },
      "source": [
        "#Batch update with initial weight 1\n",
        "c = 0\n",
        "batch_1_iter = []\n",
        "for i in alpha:\n",
        "  a = np.array(weight_1)\n",
        "  c = 0\n",
        "  while True:\n",
        "    weight_update = []\n",
        "    tmp = []\n",
        "    b = 0\n",
        "    for j in y:\n",
        "        s = np.sum(j * a,axis = 1)\n",
        "        if s[0]<= 0:\n",
        "          tmp.append(j)\n",
        "          b = 1\n",
        "    c = c + 1\n",
        "    if b == 0:\n",
        "      break            \n",
        "    e = np.array(tmp)\n",
        "    weight_update.append(np.sum(e, axis = 0))\n",
        "    weight_update = np.array(weight_update)\n",
        "    weight_update = a + (weight_update * i)\n",
        "    a = weight_update\n",
        "  batch_1_iter.append(c) "
      ],
      "execution_count": null,
      "outputs": []
    },
    {
      "cell_type": "code",
      "metadata": {
        "id": "7AlJLdrPm30Y"
      },
      "source": [
        "#Single update with initial weight 1\n",
        "c = 0\n",
        "single_1_iter = []\n",
        "for i in alpha:\n",
        "  a = np.array(weight_1)\n",
        "  c = 0\n",
        "  while True:\n",
        "    b = 0\n",
        "    for j in y:\n",
        "        s = np.sum(j * a,axis = 1)\n",
        "        if s[0]<= 0:\n",
        "          a = a + (j * i)\n",
        "          b = 1\n",
        "    c = c + 1\n",
        "    if b == 0:\n",
        "      break            \n",
        "    \n",
        "  single_1_iter.append(c) "
      ],
      "execution_count": null,
      "outputs": []
    },
    {
      "cell_type": "code",
      "metadata": {
        "colab": {
          "base_uri": "https://localhost:8080/"
        },
        "id": "DybM7EK9nO7l",
        "outputId": "b479c1c4-3646-4575-aa0e-ce1b4c8a243b"
      },
      "source": [
        "print(\"Case 2:Initial Weight Vector All Ones\")\n",
        "dataset1 = pd.DataFrame({'Alpha': alpha, 'Single Update': single_1_iter,'Batch Update':batch_1_iter})\n",
        "print(dataset1.to_string(index=False))"
      ],
      "execution_count": null,
      "outputs": [
        {
          "output_type": "stream",
          "text": [
            "Case 2:Initial Weight Vector All Ones\n",
            " Alpha  Single Update  Batch Update\n",
            "   0.1              6           102\n",
            "   0.2             92           104\n",
            "   0.3            104            91\n",
            "   0.4            106           116\n",
            "   0.5             93           105\n",
            "   0.6             93           114\n",
            "   0.7            108            91\n",
            "   0.8            115            91\n",
            "   0.9             94           105\n",
            "   1.0             94            93\n"
          ],
          "name": "stdout"
        }
      ]
    },
    {
      "cell_type": "code",
      "metadata": {
        "colab": {
          "base_uri": "https://localhost:8080/",
          "height": 548
        },
        "id": "jbdxNUsAnbVI",
        "outputId": "892d6ca9-14a2-4e2d-c4bf-d15860da6241"
      },
      "source": [
        "plt.figure(2)\n",
        "fig, ax = plt.subplots(1, figsize = (10, 8))\n",
        "\n",
        "plt.bar(alpha, batch_1_iter, 0.04, label='Batch Update')\n",
        "plt.bar(alpha+0.04, single_1_iter, 0.04, label='Single Update')\n",
        "\n",
        "plt.title('Perception Comparison for all initial weight Zeros')\n",
        "plt.xlabel(\"Learning Rate\")\n",
        "plt.ylabel(\"Iteration Number\")\n",
        "plt.legend(loc=\"best\",fontsize=\"small\")"
      ],
      "execution_count": null,
      "outputs": [
        {
          "output_type": "execute_result",
          "data": {
            "text/plain": [
              "<matplotlib.legend.Legend at 0x7f16f4978c18>"
            ]
          },
          "metadata": {
            "tags": []
          },
          "execution_count": 147
        },
        {
          "output_type": "display_data",
          "data": {
            "text/plain": [
              "<Figure size 432x288 with 0 Axes>"
            ]
          },
          "metadata": {
            "tags": []
          }
        },
        {
          "output_type": "display_data",
          "data": {
            "image/png": "[encoded data removed]",
            "text/plain": [
              "<Figure size 720x576 with 1 Axes>"
            ]
          },
          "metadata": {
            "tags": [],
            "needs_background": "light"
          }
        }
      ]
    },
    {
      "cell_type": "code",
      "metadata": {
        "id": "8ccy5puKoxMy"
      },
      "source": [
        "#Batch update with initial weight all random values \n",
        "c = 0\n",
        "batch_rand_iter = []\n",
        "for i in alpha:\n",
        "  a = np.array(weight_rand)\n",
        "  c = 0\n",
        "  while True:\n",
        "    weight_update = []\n",
        "    tmp = []\n",
        "    b = 0\n",
        "    for j in y:\n",
        "        s = np.sum(j * a,axis = 1)\n",
        "        if s[0]<= 0:\n",
        "          tmp.append(j)\n",
        "          b = 1\n",
        "    c = c + 1\n",
        "    if b == 0:\n",
        "      break            \n",
        "    e = np.array(tmp)\n",
        "    weight_update.append(np.sum(e, axis = 0))\n",
        "    weight_update = np.array(weight_update)\n",
        "    weight_update = a + (weight_update * i)\n",
        "    a = weight_update\n",
        "  batch_rand_iter.append(c) "
      ],
      "execution_count": null,
      "outputs": []
    },
    {
      "cell_type": "code",
      "metadata": {
        "id": "gteSY27OoxXV"
      },
      "source": [
        "#Single update with initial random values\n",
        "c = 0\n",
        "single_rand_iter = []\n",
        "for i in alpha:\n",
        "  a = np.array(weight_rand)\n",
        "  c = 0\n",
        "  while True:\n",
        "    b = 0\n",
        "    for j in y:\n",
        "        s = np.sum(j * a,axis = 1)\n",
        "        if s[0]<= 0:\n",
        "          a = a + (j * i)\n",
        "          b = 1\n",
        "    c = c + 1\n",
        "    if b == 0:\n",
        "      break            \n",
        "    \n",
        "  single_rand_iter.append(c) "
      ],
      "execution_count": null,
      "outputs": []
    },
    {
      "cell_type": "code",
      "metadata": {
        "colab": {
          "base_uri": "https://localhost:8080/"
        },
        "id": "cLcWadwDpIyX",
        "outputId": "e5b2c512-d61b-48df-d0d3-f9771c09b3c5"
      },
      "source": [
        "print(\"Case 3:Initial Weight Vector All Ones\")\n",
        "dataset1 = pd.DataFrame({'Alpha': alpha, 'Single Update': single_rand_iter,'Batch Update':batch_rand_iter})\n",
        "print(dataset1.to_string(index=False))"
      ],
      "execution_count": null,
      "outputs": [
        {
          "output_type": "stream",
          "text": [
            "Case 3:Initial Weight Vector All Ones\n",
            " Alpha  Single Update  Batch Update\n",
            "   0.1             33            44\n",
            "   0.2             14            85\n",
            "   0.3             81            86\n",
            "   0.4              7           135\n",
            "   0.5             90           120\n",
            "   0.6             93             7\n",
            "   0.7             94           101\n",
            "   0.8             89           103\n",
            "   0.9             91           105\n",
            "   1.0            105            97\n"
          ],
          "name": "stdout"
        }
      ]
    },
    {
      "cell_type": "code",
      "metadata": {
        "colab": {
          "base_uri": "https://localhost:8080/",
          "height": 548
        },
        "id": "wMm_5xUspnSw",
        "outputId": "fafc26fa-a325-400f-fe7c-f719cfda6990"
      },
      "source": [
        "plt.figure(2)\n",
        "fig, ax = plt.subplots(1, figsize = (10, 8))\n",
        "\n",
        "plt.bar(alpha, batch_rand_iter, 0.04, label='Batch Update')\n",
        "plt.bar(alpha+0.04, single_rand_iter, 0.04, label='Single Update')\n",
        "\n",
        "plt.title('Perception Comparison for all initial weights with random values')\n",
        "plt.xlabel(\"Learning Rate\")\n",
        "plt.ylabel(\"Iteration Number\")\n",
        "plt.legend(loc=\"best\",fontsize=\"small\")"
      ],
      "execution_count": null,
      "outputs": [
        {
          "output_type": "execute_result",
          "data": {
            "text/plain": [
              "<matplotlib.legend.Legend at 0x7f16f48df240>"
            ]
          },
          "metadata": {
            "tags": []
          },
          "execution_count": 151
        },
        {
          "output_type": "display_data",
          "data": {
            "text/plain": [
              "<Figure size 432x288 with 0 Axes>"
            ]
          },
          "metadata": {
            "tags": []
          }
        },
        {
          "output_type": "display_data",
          "data": {
            "image/png": "[encoded data removed]",
            "text/plain": [
              "<Figure size 720x576 with 1 Axes>"
            ]
          },
          "metadata": {
            "tags": [],
            "needs_background": "light"
          }
        }
      ]
    },
    {
      "cell_type": "code",
      "metadata": {
        "colab": {
          "base_uri": "https://localhost:8080/",
          "height": 572
        },
        "id": "l4hueeqOpI1G",
        "outputId": "2c1ba16d-58b0-49bd-ae1b-c7b7fc95443d"
      },
      "source": [
        "fig, axs = plt.subplots(3, sharex=True, sharey=True, figsize = (10, 8))\n",
        "fig.suptitle('Perceptron Comperison')\n",
        "\n",
        "\n",
        "axs[0].bar(alpha, batch_0_iter, 0.04, label='Batch Update')\n",
        "axs[0].bar(alpha+0.04, single_0_iter, 0.04, label='Single Update')\n",
        "\n",
        "\n",
        "axs[1].bar(alpha, batch_1_iter, 0.04, label='Batch Update')\n",
        "axs[1].bar(alpha+0.04, single_1_iter, 0.04, label='Single Update')\n",
        "\n",
        "axs[2].bar(alpha, batch_rand_iter, 0.04, label='Batch Update')\n",
        "axs[2].bar(alpha+0.04, single_rand_iter, 0.04, label='Single Update')\n",
        "\n",
        "\n",
        "plt.xlabel(\"Learning Rate\")\n",
        "plt.ylabel(\"Iteration Number\")\n",
        "plt.legend(loc=\"best\",fontsize=\"small\")\n"
      ],
      "execution_count": null,
      "outputs": [
        {
          "output_type": "execute_result",
          "data": {
            "text/plain": [
              "<matplotlib.legend.Legend at 0x7f16f490d860>"
            ]
          },
          "metadata": {
            "tags": []
          },
          "execution_count": 152
        },
        {
          "output_type": "display_data",
          "data": {
            "image/png": "[encoded data removed]",
            "text/plain": [
              "<Figure size 720x576 with 3 Axes>"
            ]
          },
          "metadata": {
            "tags": [],
            "needs_background": "light"
          }
        }
      ]
    }
  ]
}